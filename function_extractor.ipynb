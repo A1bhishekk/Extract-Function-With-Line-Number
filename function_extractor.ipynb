{
 "cells": [
  {
   "cell_type": "markdown",
   "metadata": {},
   "source": [
    "## Importing Packages"
   ]
  },
  {
   "cell_type": "code",
   "execution_count": 159,
   "metadata": {},
   "outputs": [],
   "source": [
    "import os\n",
    "import sys\n",
    "import string\n",
    "from urllib.request import Request, urlopen\n",
    "from urllib.error import HTTPError\n",
    "from bs4 import BeautifulSoup\n",
    "import time\n",
    "import datetime\n",
    "import ssl\n",
    "import numpy as np\n",
    "import pandas as pd\n",
    "import traceback\n",
    "import csv\n",
    "ssl._create_default_https_context = ssl._create_unverified_context\n",
    "import json\n",
    "import subprocess\n",
    "import glob\n",
    "import requests\n",
    "import shutil\n",
    "from tqdm import tqdm"
   ]
  },
  {
   "cell_type": "markdown",
   "metadata": {},
   "source": [
    "### downloading source content"
   ]
  },
  {
   "cell_type": "code",
   "execution_count": 160,
   "metadata": {},
   "outputs": [],
   "source": [
    "def get_source_content(url):\n",
    "    response = requests.get(url)\n",
    "\n",
    "    if response.status_code == 200:\n",
    "        return response.content\n",
    "    else:\n",
    "        return None"
   ]
  },
  {
   "cell_type": "markdown",
   "metadata": {},
   "source": [
    "### find all the line numbers that the functions begins\n"
   ]
  },
  {
   "cell_type": "code",
   "execution_count": 161,
   "metadata": {},
   "outputs": [],
   "source": [
    "# find all the line numbers that the functions begins\n",
    "def get_line_numbers(filename,lang_type):\n",
    "    # found = False\n",
    "    #cmd = \"ctags -x --c-kinds=fp \" + filename + \" | grep \" + funcname\n",
    "    cmd = \"ctags -x --\"+lang_type+\"-kinds=f \" + filename\n",
    "\n",
    "    output = subprocess.getoutput(cmd)\n",
    "    lines = output.splitlines()\n",
    "    line_nums = []\n",
    "    for line in lines:\n",
    "        line = line.split(\" \")\n",
    "        char = list(filter(None, line))\n",
    "        line_num = char[2]\n",
    "        line_nums.append(int(line_num))\n",
    "    return line_nums\n"
   ]
  },
  {
   "cell_type": "code",
   "execution_count": 162,
   "metadata": {},
   "outputs": [],
   "source": [
    "\n",
    "def process_file(filename, line_num):\n",
    "    # print(\"opening \" + filename + \" on line \" + str(line_num))\n",
    "\n",
    "    code = \"\"\n",
    "    cnt_braket = 0\n",
    "    found_start = False\n",
    "    found_end = False\n",
    "\n",
    "    with open(filename, \"r\") as f:\n",
    "        for i, line in enumerate(f):\n",
    "            if(i >= (line_num - 1)):\n",
    "                code += line\n",
    "\n",
    "                if (not line.startswith(\"//\")) and line.count(\"{\") > 0:\n",
    "                    found_start = True\n",
    "                    cnt_braket += line.count(\"{\")\n",
    "\n",
    "                if (not line.startswith(\"//\")) and line.count(\"}\") > 0:\n",
    "                    cnt_braket -= line.count(\"}\")\n",
    "\n",
    "                if cnt_braket == 0 and found_start == True:\n",
    "                    found_end = True\n",
    "                    return code, i+1"
   ]
  },
  {
   "cell_type": "code",
   "execution_count": 163,
   "metadata": {},
   "outputs": [],
   "source": [
    "def get_diff_num(filename):\n",
    "    diff_start_lines = []\n",
    "    with open(filename, \"r\") as patch:\n",
    "        for i, line in enumerate(patch):\n",
    "            if line.startswith(\"@@ \"):\n",
    "                if not i == 0:\n",
    "                    diff_start_lines.append(i)\n",
    "        diff_start_lines.append(i+1)\n",
    "    return diff_start_lines\n",
    "\n",
    "def get_enumerate(filename):\n",
    "    patch = open(filename, \"r\")\n",
    "    return enumerate(patch)"
   ]
  },
  {
   "cell_type": "code",
   "execution_count": 164,
   "metadata": {},
   "outputs": [],
   "source": [
    "\n",
    "def get_diff_information(filename, diff_start_lines):\n",
    "    block_num = 0\n",
    "    archor = []\n",
    "    count = 0\n",
    "    for diff_start_line in diff_start_lines:\n",
    "        # reset some values\n",
    "        count += 1\n",
    "        minus_count = 0\n",
    "        plus_count = 0\n",
    "        before = None\n",
    "        after = None\n",
    "        start_line_num = None\n",
    "        minus_pos = []\n",
    "        plus_pos = []\n",
    "        patch = []\n",
    "        for j, l in get_enumerate(filename):\n",
    "            if count == len(diff_start_lines):\n",
    "                if j == diff_start_line - 1:\n",
    "                    patch.append(l)\n",
    "                    if l.startswith(\"-\"):\n",
    "                        minus_count += 1\n",
    "                        minus_pos.append(j - start_line_num)\n",
    "                    if l.startswith(\"+\"):\n",
    "                        plus_count += 1\n",
    "                        plus_pos.append(j - start_line_num)\n",
    "                    block_num = j\n",
    "                    before = list(map(int, before))\n",
    "                    after = list(map(int, after))\n",
    "                    if len(archor) == 0:\n",
    "                        archor.append(\n",
    "                            [before, after, minus_count, plus_count, minus_pos, plus_pos, patch, after[0], minus_count,\n",
    "                             0])\n",
    "                    else:\n",
    "                        diff_value = archor[-1][8] + minus_count\n",
    "                        insert_after = after[0] + archor[-1][8]\n",
    "                        last_end = archor[-1][1][0] + archor[-1][1][1] - 1\n",
    "                        archor.append([before, after, minus_count, plus_count, minus_pos, plus_pos, patch, insert_after,\n",
    "                                       diff_value, last_end])\n",
    "                    break\n",
    "\n",
    "                if block_num <= j < diff_start_line - 1:\n",
    "                    patch.append(l)\n",
    "                    if l.startswith(\"@@ \"):\n",
    "                        start_line_num = j\n",
    "                        pos = l.find(\"@@ \")\n",
    "                        end = l.find(\" @@ \")\n",
    "                        modified = l[pos + 3:end]\n",
    "                        modified = modified.split(\" \")\n",
    "                        before = modified[0]\n",
    "                        before = before.replace(\"-\", \"\")\n",
    "                        before = before.split(\",\")\n",
    "                        after = modified[1]\n",
    "                        after = after.replace(\"+\", \"\")\n",
    "                        after = after.split(\",\")\n",
    "                        # now our source files are after-modified\n",
    "\n",
    "                    if l.startswith(\"-\"):\n",
    "                        minus_count += 1\n",
    "                        minus_pos.append(j - start_line_num)\n",
    "\n",
    "                    if l.startswith(\"+\"):\n",
    "                        plus_count += 1\n",
    "                        plus_pos.append(j - start_line_num)\n",
    "                elif j < block_num:\n",
    "                    continue\n",
    "                else:\n",
    "                    block_num = j\n",
    "                    before = list(map(int, before))\n",
    "                    after = list(map(int, after))\n",
    "                    if len(archor) == 0:\n",
    "                        archor.append(\n",
    "                            [before, after, minus_count, plus_count, minus_pos, plus_pos, patch, after[0], minus_count,\n",
    "                             0])\n",
    "                    else:\n",
    "                        diff_value = archor[-1][8] + minus_count\n",
    "                        insert_after = after[0] + archor[-1][8]\n",
    "                        last_end = archor[-1][1][0] + archor[-1][1][1] - 1\n",
    "                        archor.append([before, after, minus_count, plus_count, minus_pos, plus_pos, patch, insert_after,\n",
    "                                       diff_value, last_end])\n",
    "                    break\n",
    "            else:\n",
    "                if block_num <= j < diff_start_line:\n",
    "                    patch.append(l)\n",
    "                    if l.startswith(\"@@ \"):\n",
    "                        start_line_num = j\n",
    "                        pos = l.find(\"@@ \")\n",
    "                        end = l.find(\" @@ \")\n",
    "                        modified = l[pos + 3:end]\n",
    "                        modified = modified.split(\" \")\n",
    "                        before = modified[0]\n",
    "                        before = before.replace(\"-\", \"\")\n",
    "                        before = before.split(\",\")\n",
    "                        after = modified[1]\n",
    "                        after = after.replace(\"+\", \"\")\n",
    "                        after = after.split(\",\")\n",
    "                        # now our source files are after-modified\n",
    "\n",
    "                    if l.startswith(\"-\"):\n",
    "                        minus_count += 1\n",
    "                        minus_pos.append(j - start_line_num)\n",
    "\n",
    "                    if l.startswith(\"+\"):\n",
    "                        plus_count += 1\n",
    "                        plus_pos.append(j - start_line_num)\n",
    "                elif j < block_num:\n",
    "                    continue\n",
    "                else:\n",
    "                    block_num = j\n",
    "                    before = list(map(int, before))\n",
    "                    after = list(map(int, after))\n",
    "                    if len(archor) == 0:\n",
    "                        archor.append(\n",
    "                            [before, after, minus_count, plus_count, minus_pos, plus_pos, patch, after[0], minus_count,\n",
    "                             0])\n",
    "                    else:\n",
    "                        diff_value = archor[-1][8] + minus_count\n",
    "                        insert_after = after[0] + archor[-1][8]\n",
    "                        last_end = archor[-1][1][0] + archor[-1][1][1] - 1\n",
    "                        archor.append([before, after, minus_count, plus_count, minus_pos, plus_pos, patch, insert_after,\n",
    "                                       diff_value, last_end])\n",
    "                    break\n",
    "\n",
    "    return archor"
   ]
  },
  {
   "cell_type": "markdown",
   "metadata": {},
   "source": [
    "# Vulnerable functions"
   ]
  },
  {
   "cell_type": "code",
   "execution_count": 165,
   "metadata": {},
   "outputs": [],
   "source": [
    "def test(file_content):\n",
    "    lines = file_content.splitlines()\n",
    "\n",
    "    vulnerable_function = []\n",
    "    skip_next_line_vuln = False\n",
    "\n",
    "    for line in lines:\n",
    "        # Skip lines after `//fix_flaw_line_below:`\n",
    "        if \"//fix_flaw_line_below:\" in line:\n",
    "            skip_next_line_vuln = True\n",
    "            continue\n",
    "        if skip_next_line_vuln:\n",
    "            skip_next_line_vuln = False\n",
    "            continue\n",
    "\n",
    "        # Skip comments\n",
    "        if line.strip().startswith(\"//\"):\n",
    "            continue\n",
    "\n",
    "        # Add the line to the vulnerable function\n",
    "        vulnerable_function.append(line)\n",
    "\n",
    "    # Join the lines to get the final function code as a string\n",
    "    vulnerable_function_code = \"\\n\".join(vulnerable_function)\n",
    "    # print(vulnerable_function_code)\n",
    "\n",
    "    return vulnerable_function_code\n",
    "\n",
    "\n"
   ]
  },
  {
   "cell_type": "markdown",
   "metadata": {},
   "source": [
    "### Non vulnerable functions"
   ]
  },
  {
   "cell_type": "code",
   "execution_count": 166,
   "metadata": {},
   "outputs": [],
   "source": [
    "def test2(file_content):\n",
    "    lines = file_content.splitlines()\n",
    "\n",
    "    non_vulnerable_function = []\n",
    "    skip_next_line_vuln = False\n",
    "    uncomment_next_line_fix = False\n",
    "\n",
    "    for line in lines:\n",
    "        # Check if the line starts with `//flaw_line_below:`\n",
    "        if line.strip().startswith(\"//flaw_line_below:\"):\n",
    "            skip_next_line_vuln = True\n",
    "            continue\n",
    "\n",
    "        # If the previous line was `//flaw_line_below:`, skip this line\n",
    "        if skip_next_line_vuln:\n",
    "            skip_next_line_vuln = False\n",
    "            continue\n",
    "\n",
    "        # Check if the line starts with `//fix_flaw_line_below:`\n",
    "        if line.strip().startswith(\"//fix_flaw_line_below:\"):\n",
    "            uncomment_next_line_fix = True\n",
    "            continue\n",
    "\n",
    "        # If the previous line was `//fix_flaw_line_below:`, uncomment this line\n",
    "        if uncomment_next_line_fix:\n",
    "            uncomment_next_line_fix = False\n",
    "            non_vulnerable_function.append(line.lstrip(\"//\").strip() + \"\\n\")\n",
    "            continue\n",
    "\n",
    "        # Add the line to the non-vulnerable function\n",
    "        non_vulnerable_function.append(line)\n",
    "\n",
    "    # Join the lines to get the final function code as a string\n",
    "    non_vulnerable_function_code = \"\\n\".join(non_vulnerable_function)\n",
    "\n",
    "    return non_vulnerable_function_code\n"
   ]
  },
  {
   "cell_type": "code",
   "execution_count": 167,
   "metadata": {},
   "outputs": [],
   "source": [
    "def process_patch_file(file_path):\n",
    "    non_vuln_lines = []\n",
    "    vuln_lines = []\n",
    "\n",
    "    with open(file_path, 'r') as file:\n",
    "        for line in file:\n",
    "            line = line.rstrip()  # Remove any trailing newline or spaces\n",
    "\n",
    "            if line.startswith('+'):\n",
    "                non_vuln_lines.append(line[1:].strip())  # Remove the '+' symbol and any extra whitespace\n",
    "            elif line.startswith('-'):\n",
    "                vuln_lines.append(line[1:].strip())  # Remove the '-' symbol and any extra whitespace\n",
    "\n",
    "    return non_vuln_lines, vuln_lines\n"
   ]
  },
  {
   "cell_type": "code",
   "execution_count": 168,
   "metadata": {},
   "outputs": [],
   "source": [
    "def categorize_code_lines(code):\n",
    "    vuln_lines = []\n",
    "    non_vuln_lines = []\n",
    "    \n",
    "    # Split the input code into lines\n",
    "    lines = code.split('\\n')\n",
    "    \n",
    "    is_vuln_next = False\n",
    "    is_fix_next = False\n",
    "    \n",
    "    for line in lines:\n",
    "        # Check if the current line indicates the next line is vulnerable\n",
    "        if \"//flaw_line_below\" in line:\n",
    "            is_vuln_next = True\n",
    "            continue\n",
    "        # Check if the current line indicates the next line is non-vulnerable\n",
    "        elif \"//fix_flaw_line_below\" in line:\n",
    "            is_fix_next = True\n",
    "            continue\n",
    "        \n",
    "      \n",
    "        # If the flag is set, categorize the next line accordingly\n",
    "        if is_vuln_next:\n",
    "            vuln_lines.append(line.strip())\n",
    "            is_vuln_next = False\n",
    "        elif is_fix_next:\n",
    "            # Remove leading // and any extra spaces for non-vulnerable lines\n",
    "            non_vuln_lines.append(line.lstrip('/ ').strip())\n",
    "            is_fix_next = False\n",
    "        \n",
    "\n",
    "        \n",
    "\n",
    "    formatted_vuln_lines = \"\\n\".join(vuln_lines)\n",
    "    formatted_non_vuln_lines = \"\\n\".join(non_vuln_lines)\n",
    "\n",
    "    return formatted_vuln_lines, formatted_non_vuln_lines"
   ]
  },
  {
   "cell_type": "code",
   "execution_count": 169,
   "metadata": {},
   "outputs": [],
   "source": [
    "def process_line_before_and_after(code):\n",
    "    changes = []\n",
    "    lines = code.split('\\n')\n",
    "    for i, line in enumerate(lines):\n",
    "        if \"//flaw_line_below:\" in line:\n",
    "            if i + 1 < len(lines):\n",
    "                line_before = lines[i + 1].strip()\n",
    "                changes.append({'line_before': line_before, 'line_after': ''})\n",
    "        elif \"//fix_flaw_line_below:\" in line:\n",
    "            if i + 1 < len(lines):\n",
    "                line_after = lines[i + 1].strip()\n",
    "                # Remove leading '//' from the start of line_after if it exists\n",
    "                if line_after.startswith('//'):\n",
    "                    line_after = line_after[2:].strip()\n",
    "                if changes and changes[-1]['line_after'] == '':\n",
    "                    changes[-1]['line_after'] = line_after\n",
    "                else:\n",
    "                    changes.append({'line_before': '', 'line_after': line_after})\n",
    "    return changes"
   ]
  },
  {
   "cell_type": "code",
   "execution_count": 170,
   "metadata": {},
   "outputs": [],
   "source": [
    "def generate_line_diff(c_cpp_csv):\n",
    "    vul_number = 0 \n",
    "    data=[]\n",
    "\n",
    "    for index, row in tqdm(c_cpp_csv.iterrows(), total=len(c_cpp_csv)  , desc=\"Processing function with line extraction...\"):\n",
    "         try:   \n",
    "            commit_id = row[\"commit_id\"]    # commit id\n",
    "            diff = row[\"files_changed\"]\n",
    "            if not (row[\"cwe_id\"] is None) and not (row[\"cwe_id\"] == \"\"):\n",
    "                CWE_ID = str(row[\"cwe_id\"])\n",
    "            else:\n",
    "                CWE_ID = \"others\"\n",
    "            \n",
    "            files_changed = []     # files changed in this commit\n",
    "            project = row[\"project\"]     # project name\n",
    "            for i in diff.split(\"<_**next**_>\"):\n",
    "                files_changed.append(json.loads(i))\n",
    "\n",
    "            for file in files_changed:\n",
    "                file_with_dir = file[\"filename\"]      # file name with full path\n",
    "                pos = file_with_dir.rfind('/')\n",
    "                if pos > 0:\n",
    "                    filename = file_with_dir[pos + 1:]  # file name\n",
    "                    file_dir = commit_id + \"/\" + file_with_dir[:pos]\n",
    "                elif pos == 0:\n",
    "                    filename = file_with_dir[1:]\n",
    "                    file_dir = commit_id\n",
    "                else:\n",
    "                    filename = file_with_dir\n",
    "                    file_dir = commit_id\n",
    "                raw_url=file[\"raw_url\"]    # raw url\n",
    "                if \"patch\" in file:\n",
    "                    patch = file[\"patch\"]\n",
    "                else:\n",
    "                    patch = \"\"\n",
    "                type_pos = filename.find('.')\n",
    "                if type_pos > 0:\n",
    "                    only_name = filename[:type_pos]\n",
    "                    only_type = filename[type_pos + 1:]\n",
    "                else:\n",
    "                    only_name = filename\n",
    "                    only_type = \"not know\"\n",
    "                \n",
    "                sourcefiles = get_source_content(raw_url)       # get source code from raw url\n",
    "                if sourcefiles is not None:\n",
    "                   sourcefiles_str = sourcefiles.decode('utf-8') \n",
    "\n",
    "                # TODO: get sourcefiles from local\n",
    "\n",
    "                if not os.path.exists(\"patchAll0206/\" + only_type + '/' + project + '/' + CWE_ID + '/' + file_dir):\n",
    "                    os.makedirs(\"patchAll0206/\" + only_type + '/' + project + '/' + CWE_ID + '/' + file_dir)\n",
    "                sourcefile_dir = \"patchAll0206/\" + only_type + '/' + project + '/' + CWE_ID + '/' + file_dir + '/' + filename\n",
    "                # print(\"sourcefiledir\",sourcefile_dir)\n",
    "                patchfile_dir = \"patchAll0206/\" + only_type + '/' + project + '/' + CWE_ID + '/' + file_dir + '/' + only_name + '_' + 'patch.txt'\n",
    "                # print(\"patchfile_dir\",patchfile_dir)\n",
    "                with open(sourcefile_dir, \"w+\") as source_file, open(patchfile_dir, \"w+\") as patch_file:\n",
    "                    source_file.write(sourcefiles_str)\n",
    "                    patch_file.write(patch)\n",
    "                # TODO: get functions: if vul? not vul?\n",
    "                if only_type == \"c\":\n",
    "\n",
    "                    num = get_diff_num(patchfile_dir)     # get the number of diff blocks\n",
    "\n",
    "                    archors = get_diff_information(patchfile_dir, num)    # get the diff information\n",
    "\n",
    "                    block_num = 0\n",
    "                    block_total = len(archors)\n",
    "                    for archor in archors:\n",
    "                        block_num += 1\n",
    "                        del_line_pos = archor[4]\n",
    "                        add_line_pos = archor[5]\n",
    "                        patch_start = int(archor[1][0])\n",
    "                        patch_lines = int(archor[0][1]) + archor[3]\n",
    "                        patch_end = patch_start + patch_lines - 1\n",
    "                        source_end = patch_start + int(archor[1][1]) - 1\n",
    "                        last_end = archor[9]\n",
    "                        wrote = False\n",
    "\n",
    "                        add_patch_file_dir = \"patchAll0206/\" + only_type + '/' + project + '/' + CWE_ID + '/' + file_dir + '/' + \"add_patch_\" + filename\n",
    "                        with open(sourcefile_dir, \"r\") as before, open(add_patch_file_dir, \"a\") as after:\n",
    "                            lines = before.readlines()\n",
    "                            flen = len(lines)  # the number of lines in the source file\n",
    "                            for i in range(flen):\n",
    "                                if last_end - 1 < i <= source_end - 1:\n",
    "                                    if i == 0:\n",
    "                                        after.write(lines[i])\n",
    "                                        continue\n",
    "                                    if (patch_start - 1 <= i <= source_end - 1):\n",
    "                                        if wrote == False:\n",
    "                                            for patch_line in archor[6][1:]:\n",
    "                                                if patch_line.startswith(\"+\"):\n",
    "                                                    patch_line = patch_line.replace(\"+\", \"//fix_flaw_line_below:\\n//\",\n",
    "                                                                                     1)\n",
    "                                                if patch_line.startswith(\"-\"):\n",
    "                                                    patch_line = patch_line.replace(\"-\", \"//flaw_line_below:\\n\", 1)\n",
    "                                                if not patch_line.endswith(\"\\n\"):\n",
    "                                                    patch_line = patch_line + \"\\n\"\n",
    "                                                after.write(patch_line)\n",
    "                                            wrote = True\n",
    "                                    else:\n",
    "                                        after.write(lines[i])\n",
    "                                if block_num == block_total and source_end < flen and i > source_end - 1:\n",
    "                                    after.write(lines[i])\n",
    "\n",
    "                    line_nums = get_line_numbers(add_patch_file_dir, \"c\")\n",
    "                    if len(line_nums) > 0:\n",
    "                        for line_num in line_nums:\n",
    "                            code, i = process_file(add_patch_file_dir, line_num)    # get the function code and the end line number\n",
    "                            if \"//flaw_line_below:\" in code or \"//fix_flaw_line_below:\\n//\" in code:\n",
    "                                vuln_code = test(code)\n",
    "                                non_vuln_code =test2(code)\n",
    "                                vuln_line, non_vuln_line = categorize_code_lines(code)\n",
    "                                \n",
    "\n",
    "                                vul_number += 1\n",
    "                                split_vul_dir = \"./split0206/vul\" + '/' + project + '/' + CWE_ID\n",
    "                                if not os.path.exists(split_vul_dir):\n",
    "                                    os.makedirs(split_vul_dir)\n",
    "                                split_vul_file = split_vul_dir + '/' + CWE_ID + \"_\" + \"add_patch_\" + str(\n",
    "                                    i) + \"_\" + filename\n",
    "                                with open(split_vul_file, \"w+\") as vulFun:\n",
    "                                    vulFun.write(code)\n",
    "                                    \n",
    "                                split_vul_dir_0 = \"./split0206/vul0\" + '/' + project\n",
    "                                if not os.path.exists(split_vul_dir_0):\n",
    "                                    os.makedirs(split_vul_dir_0)\n",
    "                                split_vul_file_0 = split_vul_dir_0 + '/' + CWE_ID + \"_\"\"add_patch_\" + str(\n",
    "                                    i) + \"_\" + filename\n",
    "                                with open(split_vul_file_0, \"w+\") as vulFun0:\n",
    "                                    vulFun0.write(code)\n",
    "                                \n",
    "                                cve_id = row[\"cve_id\"]\n",
    "                                cwe_id = row[\"cwe_id\"]\n",
    "                                project = row[\"project\"]\n",
    "                                commit_id = row[\"commit_id\"]\n",
    "                                ref_link = row[\"ref_link\"]\n",
    "                                vulnerability_classification = row[\"vulnerability_classification\"]\n",
    "                                score=row[\"score\"]\n",
    "\n",
    "                                result={\n",
    "                                    \"cve_id\":cve_id,\n",
    "                                    \"cwe_id\":cwe_id,\n",
    "                                    \"commit_link\":ref_link,\n",
    "                                    \"project\":project,\n",
    "                                    \"commit_id\":commit_id,\n",
    "                                    \"score\":score,\n",
    "                                    \"language\":only_type,\n",
    "                                    \"vulnerability_type\":vulnerability_classification,\n",
    "                                    \"filename_with_path\":file_with_dir,\n",
    "                                    \"vuln_line\":vuln_line,\n",
    "                                    \"non_vuln_line\":non_vuln_line,\n",
    "                                    \"vuln_function\":vuln_code,\n",
    "                                    \"non_vuln_function\":non_vuln_code,\n",
    "                                    \"filename\":filename,\n",
    "                                    \"raw_url\":raw_url,\n",
    "                                }\n",
    "                                # print(\"This is result\",result)\n",
    "                                # data.append(result)\n",
    "\n",
    "                                line_before_after_mapping=process_line_before_and_after(code)\n",
    "                                  \n",
    "                                for change in line_before_after_mapping:\n",
    "                                    updated_result = result.copy()  # Copy the result dictionary to avoid modifying the original\n",
    "                                    updated_result.update(change)   # Add the current change dictionary to the result\n",
    "                                    data.append(updated_result)    # Append the updated result to the data list\n",
    "\n",
    "\n",
    "\n",
    "                                \n",
    "                        \n",
    "                            else:\n",
    "                                split_nonevul_dir = \"./split0206/nonevul\" + '/' + project\n",
    "                                if not os.path.exists(split_nonevul_dir):\n",
    "                                    os.makedirs(split_nonevul_dir)\n",
    "                                split_nonevul_file = split_nonevul_dir + '/' + \"add_patch_\" + str(i) + \"_\" + filename\n",
    "                                with open(split_nonevul_file, \"w+\") as nonVulFun:\n",
    "                                    nonVulFun.write(code)\n",
    "\n",
    "\n",
    "\n",
    "\n",
    "         except Exception as e:\n",
    "            traceback.print_exc(file=sys.stdout)\n",
    "            print(\"reason\", e)\n",
    "            print(\"\\n commit_id:\" + str(commit_id) + \"！\")\n",
    "            print(\"\\n index:\" + str(index) + \"！\")\n",
    "            continue\n",
    "\n",
    "    df = pd.DataFrame(data)\n",
    "    df.to_csv('function_with_line.csv', index=False, encoding='utf-8')\n",
    "\n",
    "    print('completed...')       \n",
    "    \n",
    "    print(\"vul_number\",vul_number)"
   ]
  },
  {
   "cell_type": "code",
   "execution_count": 171,
   "metadata": {},
   "outputs": [
    {
     "name": "stderr",
     "output_type": "stream",
     "text": [
      "Processing function with line extraction...:   0%|          | 0/100 [00:00<?, ?it/s]"
     ]
    },
    {
     "name": "stderr",
     "output_type": "stream",
     "text": [
      "Processing function with line extraction...:   1%|          | 1/100 [00:01<01:52,  1.13s/it]"
     ]
    },
    {
     "name": "stdout",
     "output_type": "stream",
     "text": [
      "<class 'str'>\n"
     ]
    },
    {
     "name": "stderr",
     "output_type": "stream",
     "text": [
      "Processing function with line extraction...:   2%|▏         | 2/100 [00:02<01:44,  1.07s/it]"
     ]
    },
    {
     "name": "stdout",
     "output_type": "stream",
     "text": [
      "<class 'str'>\n"
     ]
    },
    {
     "name": "stderr",
     "output_type": "stream",
     "text": [
      "Processing function with line extraction...:   3%|▎         | 3/100 [00:07<04:43,  2.92s/it]"
     ]
    },
    {
     "name": "stdout",
     "output_type": "stream",
     "text": [
      "<class 'str'>\n",
      "<class 'str'>\n",
      "<class 'str'>\n",
      "<class 'str'>\n"
     ]
    },
    {
     "name": "stderr",
     "output_type": "stream",
     "text": [
      "Processing function with line extraction...:   4%|▍         | 4/100 [00:10<05:05,  3.18s/it]"
     ]
    },
    {
     "name": "stdout",
     "output_type": "stream",
     "text": [
      "<class 'str'>\n"
     ]
    },
    {
     "name": "stderr",
     "output_type": "stream",
     "text": [
      "Processing function with line extraction...:   5%|▌         | 5/100 [00:12<03:58,  2.51s/it]"
     ]
    },
    {
     "name": "stdout",
     "output_type": "stream",
     "text": [
      "<class 'str'>\n",
      "<class 'str'>\n"
     ]
    },
    {
     "name": "stderr",
     "output_type": "stream",
     "text": [
      "Processing function with line extraction...:   6%|▌         | 6/100 [00:15<04:28,  2.86s/it]"
     ]
    },
    {
     "name": "stdout",
     "output_type": "stream",
     "text": [
      "<class 'str'>\n"
     ]
    },
    {
     "name": "stderr",
     "output_type": "stream",
     "text": [
      "Processing function with line extraction...:   7%|▋         | 7/100 [00:16<03:34,  2.31s/it]"
     ]
    },
    {
     "name": "stdout",
     "output_type": "stream",
     "text": [
      "<class 'str'>\n"
     ]
    },
    {
     "name": "stderr",
     "output_type": "stream",
     "text": [
      "Processing function with line extraction...:   8%|▊         | 8/100 [00:18<02:57,  1.93s/it]"
     ]
    },
    {
     "name": "stdout",
     "output_type": "stream",
     "text": [
      "<class 'str'>\n",
      "<class 'str'>\n"
     ]
    },
    {
     "name": "stderr",
     "output_type": "stream",
     "text": [
      "Processing function with line extraction...:   9%|▉         | 9/100 [00:19<02:51,  1.88s/it]"
     ]
    },
    {
     "name": "stdout",
     "output_type": "stream",
     "text": [
      "<class 'str'>\n"
     ]
    },
    {
     "name": "stderr",
     "output_type": "stream",
     "text": [
      "Processing function with line extraction...:  10%|█         | 10/100 [00:20<02:27,  1.64s/it]"
     ]
    },
    {
     "name": "stdout",
     "output_type": "stream",
     "text": [
      "<class 'str'>\n"
     ]
    },
    {
     "name": "stderr",
     "output_type": "stream",
     "text": [
      "Processing function with line extraction...:  11%|█         | 11/100 [00:22<02:12,  1.49s/it]"
     ]
    },
    {
     "name": "stdout",
     "output_type": "stream",
     "text": [
      "<class 'str'>\n"
     ]
    },
    {
     "name": "stderr",
     "output_type": "stream",
     "text": [
      "Processing function with line extraction...:  12%|█▏        | 12/100 [00:23<02:02,  1.39s/it]"
     ]
    },
    {
     "name": "stdout",
     "output_type": "stream",
     "text": [
      "<class 'str'>\n"
     ]
    },
    {
     "name": "stderr",
     "output_type": "stream",
     "text": [
      "Processing function with line extraction...:  13%|█▎        | 13/100 [00:24<01:58,  1.36s/it]"
     ]
    },
    {
     "name": "stdout",
     "output_type": "stream",
     "text": [
      "<class 'str'>\n",
      "<class 'str'>\n",
      "<class 'str'>\n",
      "<class 'str'>\n",
      "<class 'str'>\n"
     ]
    },
    {
     "name": "stderr",
     "output_type": "stream",
     "text": [
      "Processing function with line extraction...:  14%|█▍        | 14/100 [00:25<01:54,  1.33s/it]"
     ]
    },
    {
     "name": "stdout",
     "output_type": "stream",
     "text": [
      "<class 'str'>\n",
      "<class 'str'>\n"
     ]
    },
    {
     "name": "stderr",
     "output_type": "stream",
     "text": [
      "Processing function with line extraction...:  15%|█▌        | 15/100 [00:27<01:51,  1.32s/it]"
     ]
    },
    {
     "name": "stdout",
     "output_type": "stream",
     "text": [
      "<class 'str'>\n",
      "<class 'str'>\n",
      "<class 'str'>\n",
      "<class 'str'>\n",
      "<class 'str'>\n",
      "<class 'str'>\n",
      "<class 'str'>\n",
      "<class 'str'>\n",
      "<class 'str'>\n",
      "<class 'str'>\n",
      "<class 'str'>\n",
      "<class 'str'>\n",
      "<class 'str'>\n",
      "<class 'str'>\n",
      "<class 'str'>\n",
      "<class 'str'>\n",
      "<class 'str'>\n",
      "<class 'str'>\n",
      "<class 'str'>\n",
      "<class 'str'>\n",
      "<class 'str'>\n",
      "<class 'str'>\n",
      "<class 'str'>\n",
      "<class 'str'>\n",
      "<class 'str'>\n",
      "<class 'str'>\n",
      "<class 'str'>\n",
      "<class 'str'>\n",
      "<class 'str'>\n",
      "<class 'str'>\n",
      "<class 'str'>\n",
      "<class 'str'>\n",
      "<class 'str'>\n",
      "<class 'str'>\n",
      "<class 'str'>\n",
      "<class 'str'>\n",
      "<class 'str'>\n"
     ]
    },
    {
     "name": "stderr",
     "output_type": "stream",
     "text": [
      "Processing function with line extraction...:  16%|█▌        | 16/100 [00:47<10:00,  7.15s/it]"
     ]
    },
    {
     "name": "stdout",
     "output_type": "stream",
     "text": [
      "<class 'str'>\n"
     ]
    },
    {
     "name": "stderr",
     "output_type": "stream",
     "text": [
      "Processing function with line extraction...:  17%|█▋        | 17/100 [00:49<07:28,  5.40s/it]"
     ]
    },
    {
     "name": "stdout",
     "output_type": "stream",
     "text": [
      "<class 'str'>\n",
      "<class 'str'>\n",
      "<class 'str'>\n"
     ]
    },
    {
     "name": "stderr",
     "output_type": "stream",
     "text": [
      "Processing function with line extraction...:  18%|█▊        | 18/100 [00:52<06:38,  4.86s/it]"
     ]
    },
    {
     "name": "stdout",
     "output_type": "stream",
     "text": [
      "<class 'str'>\n",
      "<class 'str'>\n"
     ]
    },
    {
     "name": "stderr",
     "output_type": "stream",
     "text": [
      "Processing function with line extraction...:  19%|█▉        | 19/100 [00:53<05:03,  3.74s/it]"
     ]
    },
    {
     "name": "stdout",
     "output_type": "stream",
     "text": [
      "<class 'str'>\n"
     ]
    },
    {
     "name": "stderr",
     "output_type": "stream",
     "text": [
      "Processing function with line extraction...:  20%|██        | 20/100 [00:54<03:56,  2.95s/it]"
     ]
    },
    {
     "name": "stdout",
     "output_type": "stream",
     "text": [
      "<class 'str'>\n"
     ]
    },
    {
     "name": "stderr",
     "output_type": "stream",
     "text": [
      "Processing function with line extraction...:  21%|██        | 21/100 [00:56<03:09,  2.40s/it]"
     ]
    },
    {
     "name": "stdout",
     "output_type": "stream",
     "text": [
      "<class 'str'>\n",
      "<class 'str'>\n",
      "<class 'str'>\n",
      "<class 'str'>\n"
     ]
    },
    {
     "name": "stderr",
     "output_type": "stream",
     "text": [
      "Processing function with line extraction...:  23%|██▎       | 23/100 [01:03<03:32,  2.76s/it]"
     ]
    },
    {
     "name": "stdout",
     "output_type": "stream",
     "text": [
      "<class 'str'>\n"
     ]
    },
    {
     "name": "stderr",
     "output_type": "stream",
     "text": [
      "Processing function with line extraction...:  24%|██▍       | 24/100 [01:04<02:51,  2.26s/it]"
     ]
    },
    {
     "name": "stdout",
     "output_type": "stream",
     "text": [
      "<class 'str'>\n"
     ]
    },
    {
     "name": "stderr",
     "output_type": "stream",
     "text": [
      "Processing function with line extraction...:  25%|██▌       | 25/100 [01:05<02:24,  1.92s/it]"
     ]
    },
    {
     "name": "stdout",
     "output_type": "stream",
     "text": [
      "<class 'str'>\n"
     ]
    },
    {
     "name": "stderr",
     "output_type": "stream",
     "text": [
      "Processing function with line extraction...:  26%|██▌       | 26/100 [01:06<02:05,  1.69s/it]"
     ]
    },
    {
     "name": "stdout",
     "output_type": "stream",
     "text": [
      "<class 'str'>\n",
      "<class 'str'>\n"
     ]
    },
    {
     "name": "stderr",
     "output_type": "stream",
     "text": [
      "Processing function with line extraction...:  28%|██▊       | 28/100 [01:08<01:46,  1.48s/it]"
     ]
    },
    {
     "name": "stdout",
     "output_type": "stream",
     "text": [
      "<class 'str'>\n"
     ]
    },
    {
     "name": "stderr",
     "output_type": "stream",
     "text": [
      "Processing function with line extraction...:  29%|██▉       | 29/100 [01:10<01:37,  1.37s/it]"
     ]
    },
    {
     "name": "stdout",
     "output_type": "stream",
     "text": [
      "<class 'str'>\n"
     ]
    },
    {
     "name": "stderr",
     "output_type": "stream",
     "text": [
      "Processing function with line extraction...:  30%|███       | 30/100 [01:11<01:33,  1.33s/it]"
     ]
    },
    {
     "name": "stdout",
     "output_type": "stream",
     "text": [
      "<class 'str'>\n",
      "<class 'str'>\n"
     ]
    },
    {
     "name": "stderr",
     "output_type": "stream",
     "text": [
      "Processing function with line extraction...:  32%|███▏      | 32/100 [01:14<01:41,  1.49s/it]"
     ]
    },
    {
     "name": "stdout",
     "output_type": "stream",
     "text": [
      "<class 'str'>\n"
     ]
    },
    {
     "name": "stderr",
     "output_type": "stream",
     "text": [
      "Processing function with line extraction...:  33%|███▎      | 33/100 [01:15<01:32,  1.39s/it]"
     ]
    },
    {
     "name": "stdout",
     "output_type": "stream",
     "text": [
      "<class 'str'>\n",
      "<class 'str'>\n"
     ]
    },
    {
     "name": "stderr",
     "output_type": "stream",
     "text": [
      "Processing function with line extraction...:  35%|███▌      | 35/100 [01:19<01:50,  1.69s/it]"
     ]
    },
    {
     "name": "stdout",
     "output_type": "stream",
     "text": [
      "<class 'str'>\n"
     ]
    },
    {
     "name": "stderr",
     "output_type": "stream",
     "text": [
      "Processing function with line extraction...:  36%|███▌      | 36/100 [01:21<01:57,  1.84s/it]"
     ]
    },
    {
     "name": "stdout",
     "output_type": "stream",
     "text": [
      "<class 'str'>\n",
      "<class 'str'>\n"
     ]
    },
    {
     "name": "stderr",
     "output_type": "stream",
     "text": [
      "Processing function with line extraction...:  38%|███▊      | 38/100 [01:25<01:47,  1.73s/it]"
     ]
    },
    {
     "name": "stdout",
     "output_type": "stream",
     "text": [
      "<class 'str'>\n",
      "<class 'str'>\n",
      "<class 'str'>\n",
      "<class 'str'>\n",
      "<class 'str'>\n",
      "<class 'str'>\n"
     ]
    },
    {
     "name": "stderr",
     "output_type": "stream",
     "text": [
      "Processing function with line extraction...:  39%|███▉      | 39/100 [01:28<02:20,  2.30s/it]"
     ]
    },
    {
     "name": "stdout",
     "output_type": "stream",
     "text": [
      "<class 'str'>\n",
      "<class 'str'>\n",
      "<class 'str'>\n",
      "<class 'str'>\n",
      "<class 'str'>\n",
      "<class 'str'>\n"
     ]
    },
    {
     "name": "stderr",
     "output_type": "stream",
     "text": [
      "Processing function with line extraction...:  40%|████      | 40/100 [01:30<01:58,  1.98s/it]"
     ]
    },
    {
     "name": "stdout",
     "output_type": "stream",
     "text": [
      "<class 'str'>\n",
      "<class 'str'>\n"
     ]
    },
    {
     "name": "stderr",
     "output_type": "stream",
     "text": [
      "Processing function with line extraction...:  41%|████      | 41/100 [01:31<01:41,  1.73s/it]"
     ]
    },
    {
     "name": "stdout",
     "output_type": "stream",
     "text": [
      "<class 'str'>\n",
      "<class 'str'>\n"
     ]
    },
    {
     "name": "stderr",
     "output_type": "stream",
     "text": [
      "Processing function with line extraction...:  42%|████▏     | 42/100 [01:34<02:10,  2.25s/it]"
     ]
    },
    {
     "name": "stdout",
     "output_type": "stream",
     "text": [
      "<class 'str'>\n"
     ]
    },
    {
     "name": "stderr",
     "output_type": "stream",
     "text": [
      "Processing function with line extraction...:  43%|████▎     | 43/100 [01:36<01:53,  1.98s/it]"
     ]
    },
    {
     "name": "stdout",
     "output_type": "stream",
     "text": [
      "<class 'str'>\n"
     ]
    },
    {
     "name": "stderr",
     "output_type": "stream",
     "text": [
      "Processing function with line extraction...:  45%|████▌     | 45/100 [01:39<01:40,  1.82s/it]"
     ]
    },
    {
     "name": "stdout",
     "output_type": "stream",
     "text": [
      "<class 'str'>\n"
     ]
    },
    {
     "name": "stderr",
     "output_type": "stream",
     "text": [
      "Processing function with line extraction...:  46%|████▌     | 46/100 [01:44<02:28,  2.75s/it]"
     ]
    },
    {
     "name": "stdout",
     "output_type": "stream",
     "text": [
      "<class 'str'>\n"
     ]
    },
    {
     "name": "stderr",
     "output_type": "stream",
     "text": [
      "Processing function with line extraction...:  48%|████▊     | 48/100 [01:47<01:41,  1.95s/it]"
     ]
    },
    {
     "name": "stdout",
     "output_type": "stream",
     "text": [
      "<class 'str'>\n"
     ]
    },
    {
     "name": "stderr",
     "output_type": "stream",
     "text": [
      "Processing function with line extraction...:  49%|████▉     | 49/100 [01:48<01:29,  1.76s/it]"
     ]
    },
    {
     "name": "stdout",
     "output_type": "stream",
     "text": [
      "<class 'str'>\n",
      "<class 'str'>\n",
      "<class 'str'>\n",
      "<class 'str'>\n",
      "<class 'str'>\n",
      "<class 'str'>\n",
      "<class 'str'>\n",
      "<class 'str'>\n",
      "<class 'str'>\n",
      "<class 'str'>\n",
      "<class 'str'>\n",
      "<class 'str'>\n",
      "<class 'str'>\n",
      "<class 'str'>\n"
     ]
    },
    {
     "name": "stderr",
     "output_type": "stream",
     "text": [
      "Processing function with line extraction...:  50%|█████     | 50/100 [01:58<03:39,  4.40s/it]"
     ]
    },
    {
     "name": "stdout",
     "output_type": "stream",
     "text": [
      "<class 'str'>\n",
      "<class 'str'>\n",
      "<class 'str'>\n",
      "<class 'str'>\n",
      "<class 'str'>\n",
      "<class 'str'>\n"
     ]
    },
    {
     "name": "stderr",
     "output_type": "stream",
     "text": [
      "Processing function with line extraction...:  52%|█████▏    | 52/100 [02:05<02:55,  3.67s/it]"
     ]
    },
    {
     "name": "stdout",
     "output_type": "stream",
     "text": [
      "<class 'str'>\n"
     ]
    },
    {
     "name": "stderr",
     "output_type": "stream",
     "text": [
      "Processing function with line extraction...:  54%|█████▍    | 54/100 [02:07<01:49,  2.39s/it]"
     ]
    },
    {
     "name": "stdout",
     "output_type": "stream",
     "text": [
      "<class 'str'>\n"
     ]
    },
    {
     "name": "stderr",
     "output_type": "stream",
     "text": [
      "Processing function with line extraction...:  56%|█████▌    | 56/100 [02:11<01:27,  1.99s/it]"
     ]
    },
    {
     "name": "stdout",
     "output_type": "stream",
     "text": [
      "<class 'str'>\n"
     ]
    },
    {
     "name": "stderr",
     "output_type": "stream",
     "text": [
      "Processing function with line extraction...:  57%|█████▋    | 57/100 [02:12<01:15,  1.76s/it]"
     ]
    },
    {
     "name": "stdout",
     "output_type": "stream",
     "text": [
      "<class 'str'>\n"
     ]
    },
    {
     "name": "stderr",
     "output_type": "stream",
     "text": [
      "Processing function with line extraction...:  58%|█████▊    | 58/100 [02:13<01:06,  1.58s/it]"
     ]
    },
    {
     "name": "stdout",
     "output_type": "stream",
     "text": [
      "<class 'str'>\n"
     ]
    },
    {
     "name": "stderr",
     "output_type": "stream",
     "text": [
      "Processing function with line extraction...:  59%|█████▉    | 59/100 [02:14<00:59,  1.46s/it]"
     ]
    },
    {
     "name": "stdout",
     "output_type": "stream",
     "text": [
      "<class 'str'>\n"
     ]
    },
    {
     "name": "stderr",
     "output_type": "stream",
     "text": [
      "Processing function with line extraction...:  61%|██████    | 61/100 [02:19<01:12,  1.86s/it]"
     ]
    },
    {
     "name": "stdout",
     "output_type": "stream",
     "text": [
      "<class 'str'>\n",
      "<class 'str'>\n"
     ]
    },
    {
     "name": "stderr",
     "output_type": "stream",
     "text": [
      "Processing function with line extraction...:  62%|██████▏   | 62/100 [02:20<01:02,  1.66s/it]"
     ]
    },
    {
     "name": "stdout",
     "output_type": "stream",
     "text": [
      "<class 'str'>\n"
     ]
    },
    {
     "name": "stderr",
     "output_type": "stream",
     "text": [
      "Processing function with line extraction...:  63%|██████▎   | 63/100 [02:21<00:55,  1.50s/it]"
     ]
    },
    {
     "name": "stdout",
     "output_type": "stream",
     "text": [
      "<class 'str'>\n",
      "<class 'str'>\n"
     ]
    },
    {
     "name": "stderr",
     "output_type": "stream",
     "text": [
      "Processing function with line extraction...:  64%|██████▍   | 64/100 [02:23<01:02,  1.74s/it]"
     ]
    },
    {
     "name": "stdout",
     "output_type": "stream",
     "text": [
      "<class 'str'>\n",
      "<class 'str'>\n"
     ]
    },
    {
     "name": "stderr",
     "output_type": "stream",
     "text": [
      "Processing function with line extraction...:  66%|██████▌   | 66/100 [02:27<00:58,  1.72s/it]"
     ]
    },
    {
     "name": "stdout",
     "output_type": "stream",
     "text": [
      "<class 'str'>\n",
      "<class 'str'>\n",
      "<class 'str'>\n",
      "<class 'str'>\n",
      "<class 'str'>\n",
      "<class 'str'>\n"
     ]
    },
    {
     "name": "stderr",
     "output_type": "stream",
     "text": [
      "Processing function with line extraction...:  67%|██████▋   | 67/100 [02:39<02:41,  4.89s/it]"
     ]
    },
    {
     "name": "stdout",
     "output_type": "stream",
     "text": [
      "<class 'str'>\n",
      "<class 'str'>\n",
      "<class 'str'>\n",
      "<class 'str'>\n"
     ]
    },
    {
     "name": "stderr",
     "output_type": "stream",
     "text": [
      "Processing function with line extraction...:  68%|██████▊   | 68/100 [02:43<02:22,  4.44s/it]"
     ]
    },
    {
     "name": "stdout",
     "output_type": "stream",
     "text": [
      "<class 'str'>\n",
      "Traceback (most recent call last):\n",
      "  File \"/tmp/ipykernel_7157/2176076795.py\", line 108, in generate_line_diff\n",
      "    code, i = process_file(add_patch_file_dir, line_num)    # get the function code and the end line number\n",
      "TypeError: cannot unpack non-iterable NoneType object\n",
      "reason cannot unpack non-iterable NoneType object\n",
      "\n",
      " commit_id:75ca568fa1c19de4c5358fed246686de8467c238！\n",
      "\n",
      " index:67！\n",
      "<class 'str'>\n"
     ]
    },
    {
     "name": "stderr",
     "output_type": "stream",
     "text": [
      "Processing function with line extraction...:  69%|██████▉   | 69/100 [02:45<01:57,  3.81s/it]"
     ]
    },
    {
     "name": "stdout",
     "output_type": "stream",
     "text": [
      "<class 'str'>\n",
      "<class 'str'>\n",
      "<class 'str'>\n"
     ]
    },
    {
     "name": "stderr",
     "output_type": "stream",
     "text": [
      "Processing function with line extraction...:  70%|███████   | 70/100 [02:49<01:58,  3.96s/it]"
     ]
    },
    {
     "name": "stdout",
     "output_type": "stream",
     "text": [
      "Traceback (most recent call last):\n",
      "  File \"/tmp/ipykernel_7157/2176076795.py\", line 108, in generate_line_diff\n",
      "    code, i = process_file(add_patch_file_dir, line_num)    # get the function code and the end line number\n",
      "TypeError: cannot unpack non-iterable NoneType object\n",
      "reason cannot unpack non-iterable NoneType object\n",
      "\n",
      " commit_id:e0bccd315db0c2f919e7fcf9cb60db21d9986f52！\n",
      "\n",
      " index:69！\n"
     ]
    },
    {
     "name": "stderr",
     "output_type": "stream",
     "text": [
      "Processing function with line extraction...:  71%|███████   | 71/100 [02:51<01:30,  3.12s/it]"
     ]
    },
    {
     "name": "stdout",
     "output_type": "stream",
     "text": [
      "<class 'str'>\n",
      "<class 'str'>\n",
      "<class 'str'>\n",
      "<class 'str'>\n",
      "<class 'str'>\n",
      "<class 'str'>\n"
     ]
    },
    {
     "name": "stderr",
     "output_type": "stream",
     "text": [
      "Processing function with line extraction...:  72%|███████▏  | 72/100 [02:54<01:26,  3.09s/it]"
     ]
    },
    {
     "name": "stdout",
     "output_type": "stream",
     "text": [
      "<class 'str'>\n",
      "<class 'str'>\n"
     ]
    },
    {
     "name": "stderr",
     "output_type": "stream",
     "text": [
      "Processing function with line extraction...:  73%|███████▎  | 73/100 [02:56<01:16,  2.84s/it]"
     ]
    },
    {
     "name": "stdout",
     "output_type": "stream",
     "text": [
      "<class 'str'>\n"
     ]
    },
    {
     "name": "stderr",
     "output_type": "stream",
     "text": [
      "Processing function with line extraction...:  74%|███████▍  | 74/100 [02:57<01:00,  2.34s/it]"
     ]
    },
    {
     "name": "stdout",
     "output_type": "stream",
     "text": [
      "<class 'str'>\n"
     ]
    },
    {
     "name": "stderr",
     "output_type": "stream",
     "text": [
      "Processing function with line extraction...:  75%|███████▌  | 75/100 [02:58<00:49,  1.97s/it]"
     ]
    },
    {
     "name": "stdout",
     "output_type": "stream",
     "text": [
      "<class 'str'>\n",
      "<class 'str'>\n",
      "<class 'str'>\n",
      "<class 'str'>\n",
      "<class 'str'>\n",
      "<class 'str'>\n",
      "<class 'str'>\n",
      "<class 'str'>\n",
      "<class 'str'>\n",
      "<class 'str'>\n",
      "<class 'str'>\n",
      "<class 'str'>\n",
      "<class 'str'>\n",
      "<class 'str'>\n",
      "<class 'str'>\n",
      "<class 'str'>\n",
      "<class 'str'>\n",
      "<class 'str'>\n",
      "<class 'str'>\n",
      "<class 'str'>\n",
      "<class 'str'>\n",
      "<class 'str'>\n",
      "<class 'str'>\n",
      "<class 'str'>\n",
      "<class 'str'>\n",
      "<class 'str'>\n",
      "<class 'str'>\n",
      "<class 'str'>\n",
      "<class 'str'>\n",
      "<class 'str'>\n",
      "<class 'str'>\n",
      "<class 'str'>\n",
      "<class 'str'>\n",
      "<class 'str'>\n",
      "<class 'str'>\n"
     ]
    },
    {
     "name": "stderr",
     "output_type": "stream",
     "text": [
      "Processing function with line extraction...:  76%|███████▌  | 76/100 [03:06<01:32,  3.87s/it]"
     ]
    },
    {
     "name": "stdout",
     "output_type": "stream",
     "text": [
      "<class 'str'>\n",
      "<class 'str'>\n",
      "<class 'str'>\n",
      "<class 'str'>\n",
      "<class 'str'>\n",
      "<class 'str'>\n"
     ]
    },
    {
     "name": "stderr",
     "output_type": "stream",
     "text": [
      "Processing function with line extraction...:  77%|███████▋  | 77/100 [03:13<01:45,  4.60s/it]"
     ]
    },
    {
     "name": "stdout",
     "output_type": "stream",
     "text": [
      "<class 'str'>\n",
      "<class 'str'>\n"
     ]
    },
    {
     "name": "stderr",
     "output_type": "stream",
     "text": [
      "Processing function with line extraction...:  78%|███████▊  | 78/100 [03:16<01:33,  4.27s/it]"
     ]
    },
    {
     "name": "stdout",
     "output_type": "stream",
     "text": [
      "<class 'str'>\n",
      "<class 'str'>\n",
      "<class 'str'>\n",
      "<class 'str'>\n",
      "<class 'str'>\n",
      "<class 'str'>\n",
      "<class 'str'>\n",
      "<class 'str'>\n",
      "<class 'str'>\n",
      "<class 'str'>\n",
      "<class 'str'>\n",
      "<class 'str'>\n",
      "<class 'str'>\n",
      "<class 'str'>\n",
      "<class 'str'>\n"
     ]
    },
    {
     "name": "stderr",
     "output_type": "stream",
     "text": [
      "Processing function with line extraction...:  79%|███████▉  | 79/100 [03:33<02:51,  8.15s/it]"
     ]
    },
    {
     "name": "stdout",
     "output_type": "stream",
     "text": [
      "<class 'str'>\n"
     ]
    },
    {
     "name": "stderr",
     "output_type": "stream",
     "text": [
      "Processing function with line extraction...:  80%|████████  | 80/100 [03:35<02:01,  6.05s/it]"
     ]
    },
    {
     "name": "stdout",
     "output_type": "stream",
     "text": [
      "<class 'str'>\n"
     ]
    },
    {
     "name": "stderr",
     "output_type": "stream",
     "text": [
      "Processing function with line extraction...:  81%|████████  | 81/100 [03:36<01:28,  4.63s/it]"
     ]
    },
    {
     "name": "stdout",
     "output_type": "stream",
     "text": [
      "<class 'str'>\n"
     ]
    },
    {
     "name": "stderr",
     "output_type": "stream",
     "text": [
      "Processing function with line extraction...:  82%|████████▏ | 82/100 [03:37<01:04,  3.60s/it]"
     ]
    },
    {
     "name": "stdout",
     "output_type": "stream",
     "text": [
      "<class 'str'>\n",
      "<class 'str'>\n"
     ]
    },
    {
     "name": "stderr",
     "output_type": "stream",
     "text": [
      "Processing function with line extraction...:  84%|████████▍ | 84/100 [03:39<00:37,  2.36s/it]"
     ]
    },
    {
     "name": "stdout",
     "output_type": "stream",
     "text": [
      "<class 'str'>\n"
     ]
    },
    {
     "name": "stderr",
     "output_type": "stream",
     "text": [
      "Processing function with line extraction...:  85%|████████▌ | 85/100 [03:41<00:30,  2.01s/it]"
     ]
    },
    {
     "name": "stdout",
     "output_type": "stream",
     "text": [
      "<class 'str'>\n",
      "<class 'str'>\n"
     ]
    },
    {
     "name": "stderr",
     "output_type": "stream",
     "text": [
      "Processing function with line extraction...:  87%|████████▋ | 87/100 [03:45<00:24,  1.92s/it]"
     ]
    },
    {
     "name": "stdout",
     "output_type": "stream",
     "text": [
      "<class 'str'>\n",
      "<class 'str'>\n",
      "<class 'str'>\n",
      "<class 'str'>\n",
      "<class 'str'>\n",
      "<class 'str'>\n",
      "<class 'str'>\n",
      "<class 'str'>\n",
      "<class 'str'>\n",
      "<class 'str'>\n",
      "<class 'str'>\n",
      "<class 'str'>\n"
     ]
    },
    {
     "name": "stderr",
     "output_type": "stream",
     "text": [
      "Processing function with line extraction...:  88%|████████▊ | 88/100 [03:56<00:58,  4.85s/it]"
     ]
    },
    {
     "name": "stdout",
     "output_type": "stream",
     "text": [
      "<class 'str'>\n"
     ]
    },
    {
     "name": "stderr",
     "output_type": "stream",
     "text": [
      "Processing function with line extraction...:  89%|████████▉ | 89/100 [03:57<00:41,  3.77s/it]"
     ]
    },
    {
     "name": "stdout",
     "output_type": "stream",
     "text": [
      "<class 'str'>\n",
      "<class 'str'>\n",
      "<class 'str'>\n",
      "<class 'str'>\n",
      "<class 'str'>\n",
      "<class 'str'>\n",
      "<class 'str'>\n",
      "<class 'str'>\n",
      "<class 'str'>\n",
      "<class 'str'>\n",
      "<class 'str'>\n",
      "<class 'str'>\n",
      "<class 'str'>\n",
      "<class 'str'>\n"
     ]
    },
    {
     "name": "stderr",
     "output_type": "stream",
     "text": [
      "Processing function with line extraction...:  90%|█████████ | 90/100 [04:14<01:16,  7.70s/it]"
     ]
    },
    {
     "name": "stdout",
     "output_type": "stream",
     "text": [
      "<class 'str'>\n",
      "<class 'str'>\n",
      "<class 'str'>\n",
      "<class 'str'>\n",
      "<class 'str'>\n",
      "<class 'str'>\n",
      "<class 'str'>\n",
      "<class 'str'>\n",
      "<class 'str'>\n",
      "<class 'str'>\n",
      "<class 'str'>\n",
      "<class 'str'>\n",
      "<class 'str'>\n",
      "<class 'str'>\n",
      "<class 'str'>\n",
      "<class 'str'>\n",
      "<class 'str'>\n",
      "<class 'str'>\n",
      "<class 'str'>\n",
      "<class 'str'>\n",
      "<class 'str'>\n",
      "<class 'str'>\n",
      "<class 'str'>\n",
      "<class 'str'>\n",
      "<class 'str'>\n",
      "<class 'str'>\n",
      "<class 'str'>\n",
      "<class 'str'>\n",
      "<class 'str'>\n",
      "<class 'str'>\n",
      "<class 'str'>\n",
      "<class 'str'>\n",
      "<class 'str'>\n",
      "<class 'str'>\n",
      "<class 'str'>\n",
      "<class 'str'>\n",
      "<class 'str'>\n",
      "<class 'str'>\n",
      "<class 'str'>\n",
      "<class 'str'>\n",
      "<class 'str'>\n",
      "<class 'str'>\n",
      "<class 'str'>\n",
      "<class 'str'>\n",
      "<class 'str'>\n",
      "<class 'str'>\n",
      "<class 'str'>\n",
      "<class 'str'>\n",
      "<class 'str'>\n",
      "<class 'str'>\n",
      "<class 'str'>\n",
      "<class 'str'>\n",
      "<class 'str'>\n",
      "<class 'str'>\n"
     ]
    },
    {
     "name": "stderr",
     "output_type": "stream",
     "text": [
      "Processing function with line extraction...:  91%|█████████ | 91/100 [05:01<02:53, 19.31s/it]"
     ]
    },
    {
     "name": "stdout",
     "output_type": "stream",
     "text": [
      "Traceback (most recent call last):\n",
      "  File \"/tmp/ipykernel_7157/2176076795.py\", line 46, in generate_line_diff\n",
      "    sourcefiles_str = sourcefiles.decode('utf-8')\n",
      "UnicodeDecodeError: 'utf-8' codec can't decode byte 0xa9 in position 249: invalid start byte\n",
      "reason 'utf-8' codec can't decode byte 0xa9 in position 249: invalid start byte\n",
      "\n",
      " commit_id:a8b0ca17b80e92faab46ee7179ba9e99ccb61233！\n",
      "\n",
      " index:90！\n"
     ]
    },
    {
     "name": "stderr",
     "output_type": "stream",
     "text": [
      "Processing function with line extraction...:  92%|█████████▏| 92/100 [05:02<01:51, 13.94s/it]"
     ]
    },
    {
     "name": "stdout",
     "output_type": "stream",
     "text": [
      "<class 'str'>\n"
     ]
    },
    {
     "name": "stderr",
     "output_type": "stream",
     "text": [
      "Processing function with line extraction...:  93%|█████████▎| 93/100 [05:04<01:13, 10.45s/it]"
     ]
    },
    {
     "name": "stdout",
     "output_type": "stream",
     "text": [
      "<class 'str'>\n",
      "<class 'str'>\n"
     ]
    },
    {
     "name": "stderr",
     "output_type": "stream",
     "text": [
      "Processing function with line extraction...:  94%|█████████▍| 94/100 [05:06<00:45,  7.65s/it]"
     ]
    },
    {
     "name": "stdout",
     "output_type": "stream",
     "text": [
      "<class 'str'>\n",
      "<class 'str'>\n",
      "<class 'str'>\n",
      "<class 'str'>\n",
      "<class 'str'>\n"
     ]
    },
    {
     "name": "stderr",
     "output_type": "stream",
     "text": [
      "Processing function with line extraction...:  95%|█████████▌| 95/100 [05:14<00:39,  7.83s/it]"
     ]
    },
    {
     "name": "stdout",
     "output_type": "stream",
     "text": [
      "<class 'str'>\n"
     ]
    },
    {
     "name": "stderr",
     "output_type": "stream",
     "text": [
      "Processing function with line extraction...:  96%|█████████▌| 96/100 [05:15<00:23,  5.86s/it]"
     ]
    },
    {
     "name": "stdout",
     "output_type": "stream",
     "text": [
      "<class 'str'>\n"
     ]
    },
    {
     "name": "stderr",
     "output_type": "stream",
     "text": [
      "Processing function with line extraction...:  97%|█████████▋| 97/100 [05:16<00:13,  4.45s/it]"
     ]
    },
    {
     "name": "stdout",
     "output_type": "stream",
     "text": [
      "<class 'str'>\n"
     ]
    },
    {
     "name": "stderr",
     "output_type": "stream",
     "text": [
      "Processing function with line extraction...:  98%|█████████▊| 98/100 [05:18<00:07,  3.55s/it]"
     ]
    },
    {
     "name": "stdout",
     "output_type": "stream",
     "text": [
      "<class 'str'>\n",
      "<class 'str'>\n"
     ]
    },
    {
     "name": "stderr",
     "output_type": "stream",
     "text": [
      "Processing function with line extraction...:  99%|█████████▉| 99/100 [05:19<00:02,  2.85s/it]"
     ]
    },
    {
     "name": "stdout",
     "output_type": "stream",
     "text": [
      "<class 'str'>\n"
     ]
    },
    {
     "name": "stderr",
     "output_type": "stream",
     "text": [
      "Processing function with line extraction...: 100%|██████████| 100/100 [05:20<00:00,  3.21s/it]"
     ]
    },
    {
     "name": "stdout",
     "output_type": "stream",
     "text": [
      "<class 'str'>\n"
     ]
    },
    {
     "name": "stderr",
     "output_type": "stream",
     "text": [
      "\n"
     ]
    },
    {
     "name": "stdout",
     "output_type": "stream",
     "text": [
      "completed...\n",
      "vul_number 329\n"
     ]
    }
   ],
   "source": [
    "if __name__ == '__main__':\n",
    "    # delete dir patchAll0206\n",
    "    if os.path.exists(\"patchAll0206\"):\n",
    "        shutil.rmtree(\"patchAll0206\")\n",
    "    # delete dir split0206\n",
    "    if os.path.exists(\"split0206\"):\n",
    "        shutil.rmtree(\"split0206\")\n",
    "    c_cpp_csv = pd.read_csv('all_c_cpp_release2.0.csv', nrows=100,encoding='utf-8')\n",
    "    # c_cpp_csv = pd.read_csv('all_c_cpp_release2.0.csv',encoding='utf-8')\n",
    "    result=generate_line_diff(c_cpp_csv)\n"
   ]
  },
  {
   "cell_type": "code",
   "execution_count": null,
   "metadata": {},
   "outputs": [],
   "source": []
  }
 ],
 "metadata": {
  "kernelspec": {
   "display_name": "Python 3",
   "language": "python",
   "name": "python3"
  },
  "language_info": {
   "codemirror_mode": {
    "name": "ipython",
    "version": 3
   },
   "file_extension": ".py",
   "mimetype": "text/x-python",
   "name": "python",
   "nbconvert_exporter": "python",
   "pygments_lexer": "ipython3",
   "version": "3.10.12"
  }
 },
 "nbformat": 4,
 "nbformat_minor": 2
}
